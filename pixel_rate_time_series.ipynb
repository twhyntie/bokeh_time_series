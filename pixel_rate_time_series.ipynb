{
 "cells": [
  {
   "cell_type": "markdown",
   "metadata": {},
   "source": [
    "# Plotting a time series using Bokeh\n",
    "Let's say we want to plot the number of hit during our data taking with the Timepix detector. This isn't quite as trivial as it sounds, unfortunately. For example, while each frame of data records a discrete number of pixels, this is only for the duration of the **acquisition time** of the frame. There are slight gaps between the frames due to the readout time. It is therefore more appropriate to plot the **pixels per second** associated with each frame as a rectangle on a graph of _time_ versus _pixels per second_; the area of each rectangle then gives you the number of pixels hit in that frame.\n",
    "\n",
    "This makes the high-level Bokeh `Bar` chart a bit useless for what we want. We therefore will need to play with our data a bit before using the `quad` plotting functionality of Bokeh to get the plot that we want."
   ]
  },
  {
   "cell_type": "markdown",
   "metadata": {},
   "source": [
    "## Getting the data\n",
    "For convenience, we've converted the [background radiation measurement data](https://dx.doi.org/10.6084/m9.figshare.1618851.v2) featured in [this paper](http://dx.doi.org/10.1080/00107514.2015.1045193) into a CSV file that can be read straight in as a **pandas** `DataFrame` like so:"
   ]
  },
  {
   "cell_type": "code",
   "execution_count": 6,
   "metadata": {
    "collapsed": false,
    "scrolled": true
   },
   "outputs": [
    {
     "data": {
      "text/html": [
       "<div>\n",
       "<table border=\"1\" class=\"dataframe\">\n",
       "  <thead>\n",
       "    <tr style=\"text-align: right;\">\n",
       "      <th></th>\n",
       "      <th>start_time_s</th>\n",
       "      <th>acq_time_s</th>\n",
       "      <th>n_pixels</th>\n",
       "      <th>pixels_per_second</th>\n",
       "    </tr>\n",
       "  </thead>\n",
       "  <tbody>\n",
       "    <tr>\n",
       "      <th>0</th>\n",
       "      <td>1396447375</td>\n",
       "      <td>60.0</td>\n",
       "      <td>57</td>\n",
       "      <td>0.950000</td>\n",
       "    </tr>\n",
       "    <tr>\n",
       "      <th>1</th>\n",
       "      <td>1396447435</td>\n",
       "      <td>60.0</td>\n",
       "      <td>41</td>\n",
       "      <td>0.683333</td>\n",
       "    </tr>\n",
       "    <tr>\n",
       "      <th>2</th>\n",
       "      <td>1396447495</td>\n",
       "      <td>60.0</td>\n",
       "      <td>18</td>\n",
       "      <td>0.300000</td>\n",
       "    </tr>\n",
       "    <tr>\n",
       "      <th>3</th>\n",
       "      <td>1396447555</td>\n",
       "      <td>60.0</td>\n",
       "      <td>21</td>\n",
       "      <td>0.350000</td>\n",
       "    </tr>\n",
       "    <tr>\n",
       "      <th>4</th>\n",
       "      <td>1396447615</td>\n",
       "      <td>60.0</td>\n",
       "      <td>21</td>\n",
       "      <td>0.350000</td>\n",
       "    </tr>\n",
       "  </tbody>\n",
       "</table>\n",
       "</div>"
      ],
      "text/plain": [
       "   start_time_s  acq_time_s  n_pixels  pixels_per_second\n",
       "0    1396447375        60.0        57           0.950000\n",
       "1    1396447435        60.0        41           0.683333\n",
       "2    1396447495        60.0        18           0.300000\n",
       "3    1396447555        60.0        21           0.350000\n",
       "4    1396447615        60.0        21           0.350000"
      ]
     },
     "execution_count": 6,
     "metadata": {},
     "output_type": "execute_result"
    }
   ],
   "source": [
    "import pandas as pd\n",
    "\n",
    "df = pd.read_csv('data/bkgradiation/B06-W0212_2014-04-02-140255.csv')\n",
    "\n",
    "df.head()"
   ]
  },
  {
   "cell_type": "markdown",
   "metadata": {},
   "source": [
    "## Preparing the data\n",
    "The **Bokeh** `quad` functionality allows us to plot rectangles on our axes using four lists representing the top, bottom, left and right corners of each rectangle. Using some _list comprehension_ on the columns extracted from our `DataFrame`, we can get these values as follows:\n",
    "\n",
    "* Left values: these are the start times of each frame. However, we only have the UNIX timestamp for each frame, i.e. the number of seconds since 1st January 1970. We can retrieve the number of seconds since the start of the day using the modulus operator on the extracted `start_time_s` column values;\n",
    "* Right values: we can then add the **acquisition time** to each start time using list comprehension and the `zip` function;\n",
    "* Top values: these are simply the _pixels per second_ as extracted from the data;\n",
    "* Bottom values: always 0 - we want the rectangle to touch the x axis, so we create a list of zeroes (one zero for every frame)."
   ]
  },
  {
   "cell_type": "code",
   "execution_count": 17,
   "metadata": {
    "collapsed": false
   },
   "outputs": [],
   "source": [
    "# Get some constant values for convenience - see timevals.py.\n",
    "from timevals import *\n",
    "\n",
    "## The left-hand values for each frame.\n",
    "l_values = [(s % SECONDS_IN_A_DAY) for s in df['start_time_s'].tolist()]\n",
    "\n",
    "## The right-hand values for each frame.\n",
    "r_values = [s + a for s, a in zip(l_values, df['acq_time_s'].tolist())]\n",
    "\n",
    "## The top values for each frame - pixels per second (from the data).\n",
    "t_values = df['pixels_per_second'].tolist()\n",
    "\n",
    "## The bottom values for each frame - a list of zeroes.\n",
    "b_values = [0.0] * len(l_values)"
   ]
  },
  {
   "cell_type": "markdown",
   "metadata": {},
   "source": [
    "## Plotting the data\n",
    "Now let's use Bokeh to plot the data. First, let's ask Bokeh to output to the notebook:"
   ]
  },
  {
   "cell_type": "code",
   "execution_count": 13,
   "metadata": {
    "collapsed": false
   },
   "outputs": [
    {
     "data": {
      "text/html": [
       "\n",
       "    <div class=\"bk-root\">\n",
       "        <a href=\"http://bokeh.pydata.org\" target=\"_blank\" class=\"bk-logo bk-logo-small bk-logo-notebook\"></a>\n",
       "        <span id=\"539f90a8-c1ee-4f20-a763-2591ee119fd8\">Loading BokehJS ...</span>\n",
       "    </div>"
      ]
     },
     "metadata": {},
     "output_type": "display_data"
    },
    {
     "data": {
      "application/javascript": [
       "\n",
       "(function(global) {\n",
       "  function now() {\n",
       "    return new Date();\n",
       "  }\n",
       "\n",
       "  if (typeof (window._bokeh_onload_callbacks) === \"undefined\") {\n",
       "    window._bokeh_onload_callbacks = [];\n",
       "  }\n",
       "\n",
       "  function run_callbacks() {\n",
       "    window._bokeh_onload_callbacks.forEach(function(callback) { callback() });\n",
       "    delete window._bokeh_onload_callbacks\n",
       "    console.info(\"Bokeh: all callbacks have finished\");\n",
       "  }\n",
       "\n",
       "  function load_libs(js_urls, callback) {\n",
       "    window._bokeh_onload_callbacks.push(callback);\n",
       "    if (window._bokeh_is_loading > 0) {\n",
       "      console.log(\"Bokeh: BokehJS is being loaded, scheduling callback at\", now());\n",
       "      return null;\n",
       "    }\n",
       "    if (js_urls == null || js_urls.length === 0) {\n",
       "      run_callbacks();\n",
       "      return null;\n",
       "    }\n",
       "    console.log(\"Bokeh: BokehJS not loaded, scheduling load and callback at\", now());\n",
       "    window._bokeh_is_loading = js_urls.length;\n",
       "    for (var i = 0; i < js_urls.length; i++) {\n",
       "      var url = js_urls[i];\n",
       "      var s = document.createElement('script');\n",
       "      s.src = url;\n",
       "      s.async = false;\n",
       "      s.onreadystatechange = s.onload = function() {\n",
       "        window._bokeh_is_loading--;\n",
       "        if (window._bokeh_is_loading === 0) {\n",
       "          console.log(\"Bokeh: all BokehJS libraries loaded\");\n",
       "          run_callbacks()\n",
       "        }\n",
       "      };\n",
       "      s.onerror = function() {\n",
       "        console.warn(\"failed to load library \" + url);\n",
       "      };\n",
       "      console.log(\"Bokeh: injecting script tag for BokehJS library: \", url);\n",
       "      document.getElementsByTagName(\"head\")[0].appendChild(s);\n",
       "    }\n",
       "  };\n",
       "\n",
       "  var js_urls = ['https://cdn.pydata.org/bokeh/release/bokeh-0.12.0.min.js', 'https://cdn.pydata.org/bokeh/release/bokeh-widgets-0.12.0.min.js', 'https://cdn.pydata.org/bokeh/release/bokeh-compiler-0.12.0.min.js'];\n",
       "\n",
       "  var inline_js = [\n",
       "    function(Bokeh) {\n",
       "      Bokeh.set_log_level(\"info\");\n",
       "    },\n",
       "    \n",
       "    function(Bokeh) {\n",
       "      Bokeh.$(\"#539f90a8-c1ee-4f20-a763-2591ee119fd8\").text(\"BokehJS successfully loaded\");\n",
       "    },\n",
       "    function(Bokeh) {\n",
       "      console.log(\"Bokeh: injecting CSS: https://cdn.pydata.org/bokeh/release/bokeh-0.12.0.min.css\");\n",
       "      Bokeh.embed.inject_css(\"https://cdn.pydata.org/bokeh/release/bokeh-0.12.0.min.css\");\n",
       "      console.log(\"Bokeh: injecting CSS: https://cdn.pydata.org/bokeh/release/bokeh-widgets-0.12.0.min.css\");\n",
       "      Bokeh.embed.inject_css(\"https://cdn.pydata.org/bokeh/release/bokeh-widgets-0.12.0.min.css\");\n",
       "    }\n",
       "  ];\n",
       "\n",
       "  function run_inline_js() {\n",
       "    for (var i = 0; i < inline_js.length; i++) {\n",
       "      inline_js[i](window.Bokeh);\n",
       "    }\n",
       "  }\n",
       "\n",
       "  if (window._bokeh_is_loading === 0) {\n",
       "    console.log(\"Bokeh: BokehJS loaded, going straight to plotting\");\n",
       "    run_inline_js();\n",
       "  } else {\n",
       "    load_libs(js_urls, function() {\n",
       "      console.log(\"Bokeh: BokehJS plotting callback run at\", now());\n",
       "      run_inline_js();\n",
       "    });\n",
       "  }\n",
       "}(this));"
      ]
     },
     "metadata": {},
     "output_type": "display_data"
    }
   ],
   "source": [
    "# Standard imports \n",
    "\n",
    "from bokeh.io import output_notebook, show\n",
    "output_notebook()"
   ]
  },
  {
   "cell_type": "markdown",
   "metadata": {},
   "source": [
    "Bokeh's `datetime` axis functionality can't quite do what we want, so the `get_day_plot_figure` function uses a few tricks to format the _x_ axis tick labels to show the time. Look at `plottools.py` to see how it's done - all we need to supply is the upper _y_ axis limit (extracted from the maximum pixels per second value). We can then make the plot using the `quad` function:"
   ]
  },
  {
   "cell_type": "code",
   "execution_count": 18,
   "metadata": {
    "collapsed": false
   },
   "outputs": [
    {
     "data": {
      "text/html": [
       "\n",
       "\n",
       "    <div class=\"bk-root\">\n",
       "        <div class=\"plotdiv\" id=\"9ee146f6-150d-433c-a0c3-d5c03e28d201\"></div>\n",
       "    </div>\n",
       "<script type=\"text/javascript\">\n",
       "  \n",
       "  (function(global) {\n",
       "    function now() {\n",
       "      return new Date();\n",
       "    }\n",
       "  \n",
       "    if (typeof (window._bokeh_onload_callbacks) === \"undefined\") {\n",
       "      window._bokeh_onload_callbacks = [];\n",
       "    }\n",
       "  \n",
       "    function run_callbacks() {\n",
       "      window._bokeh_onload_callbacks.forEach(function(callback) { callback() });\n",
       "      delete window._bokeh_onload_callbacks\n",
       "      console.info(\"Bokeh: all callbacks have finished\");\n",
       "    }\n",
       "  \n",
       "    function load_libs(js_urls, callback) {\n",
       "      window._bokeh_onload_callbacks.push(callback);\n",
       "      if (window._bokeh_is_loading > 0) {\n",
       "        console.log(\"Bokeh: BokehJS is being loaded, scheduling callback at\", now());\n",
       "        return null;\n",
       "      }\n",
       "      if (js_urls == null || js_urls.length === 0) {\n",
       "        run_callbacks();\n",
       "        return null;\n",
       "      }\n",
       "      console.log(\"Bokeh: BokehJS not loaded, scheduling load and callback at\", now());\n",
       "      window._bokeh_is_loading = js_urls.length;\n",
       "      for (var i = 0; i < js_urls.length; i++) {\n",
       "        var url = js_urls[i];\n",
       "        var s = document.createElement('script');\n",
       "        s.src = url;\n",
       "        s.async = false;\n",
       "        s.onreadystatechange = s.onload = function() {\n",
       "          window._bokeh_is_loading--;\n",
       "          if (window._bokeh_is_loading === 0) {\n",
       "            console.log(\"Bokeh: all BokehJS libraries loaded\");\n",
       "            run_callbacks()\n",
       "          }\n",
       "        };\n",
       "        s.onerror = function() {\n",
       "          console.warn(\"failed to load library \" + url);\n",
       "        };\n",
       "        console.log(\"Bokeh: injecting script tag for BokehJS library: \", url);\n",
       "        document.getElementsByTagName(\"head\")[0].appendChild(s);\n",
       "      }\n",
       "    };var element = document.getElementById(\"9ee146f6-150d-433c-a0c3-d5c03e28d201\");\n",
       "    if (element == null) {\n",
       "      console.log(\"Bokeh: ERROR: autoload.js configured with elementid '9ee146f6-150d-433c-a0c3-d5c03e28d201' but no matching script tag was found. \")\n",
       "      return false;\n",
       "    }\n",
       "  \n",
       "    var js_urls = [];\n",
       "  \n",
       "    var inline_js = [\n",
       "      function(Bokeh) {\n",
       "        Bokeh.$(function() {\n",
       "            var docs_json = {\"e35bbfaf-aef5-4961-8bd6-31999e30698a\":{\"roots\":{\"references\":[{\"attributes\":{\"bottom\":{\"field\":\"bottom\"},\"fill_alpha\":{\"value\":0.1},\"fill_color\":{\"value\":\"#1f77b4\"},\"left\":{\"field\":\"left\"},\"line_alpha\":{\"value\":0.1},\"line_color\":{\"value\":\"#1f77b4\"},\"right\":{\"field\":\"right\"},\"top\":{\"field\":\"top\"}},\"id\":\"b4395f54-eac6-4806-8ec0-67a4377c7920\",\"type\":\"Quad\"},{\"attributes\":{\"active_drag\":\"auto\",\"active_scroll\":\"auto\",\"active_tap\":\"auto\",\"tools\":[{\"id\":\"1bbce54c-7f9a-478e-a93c-f16be002d7ab\",\"type\":\"PanTool\"},{\"id\":\"b226210c-f939-4404-b118-d2ab7115e1c2\",\"type\":\"WheelZoomTool\"},{\"id\":\"c896535a-2715-4b7d-b713-723ecb6e9a5e\",\"type\":\"BoxZoomTool\"},{\"id\":\"0fd10a06-6445-4bf2-a244-aa6d1c9382f4\",\"type\":\"SaveTool\"},{\"id\":\"f67f993a-abc4-40a8-98b1-bd655a8ef09d\",\"type\":\"ResetTool\"},{\"id\":\"803cc7a6-046d-47ff-ad08-0c6d2dc6188a\",\"type\":\"HelpTool\"}]},\"id\":\"51b808be-4aff-4ac4-89e8-530d025c843f\",\"type\":\"Toolbar\"},{\"attributes\":{\"overlay\":{\"id\":\"ff232dcf-96b8-4960-8ee4-21d58552d3f4\",\"type\":\"BoxAnnotation\"},\"plot\":{\"id\":\"71629946-7d4e-4d71-8ddf-a72a0f3e476b\",\"subtype\":\"Figure\",\"type\":\"Plot\"}},\"id\":\"c896535a-2715-4b7d-b713-723ecb6e9a5e\",\"type\":\"BoxZoomTool\"},{\"attributes\":{\"below\":[{\"id\":\"2f8aee23-0912-4f34-bdc2-f62dc16cfdc3\",\"type\":\"LinearAxis\"}],\"left\":[{\"id\":\"9ba701ac-883e-41f3-a20a-5c4db2968847\",\"type\":\"LinearAxis\"}],\"plot_height\":300,\"plot_width\":800,\"renderers\":[{\"id\":\"2f8aee23-0912-4f34-bdc2-f62dc16cfdc3\",\"type\":\"LinearAxis\"},{\"id\":\"f8cc29bf-1d79-4853-9cbf-7e20e71eae5a\",\"type\":\"Grid\"},{\"id\":\"9ba701ac-883e-41f3-a20a-5c4db2968847\",\"type\":\"LinearAxis\"},{\"id\":\"9947421c-787d-4046-ac96-ead89e22d88a\",\"type\":\"Grid\"},{\"id\":\"ff232dcf-96b8-4960-8ee4-21d58552d3f4\",\"type\":\"BoxAnnotation\"},{\"id\":\"ef6af6cb-21c3-40b7-8449-744bd1828ccb\",\"type\":\"GlyphRenderer\"}],\"title\":{\"id\":\"cef76efa-2c68-435a-b725-66068b534d50\",\"type\":\"Title\"},\"tool_events\":{\"id\":\"c349dc7c-b1cc-4d23-b454-ed9ab4eae2e1\",\"type\":\"ToolEvents\"},\"toolbar\":{\"id\":\"51b808be-4aff-4ac4-89e8-530d025c843f\",\"type\":\"Toolbar\"},\"x_range\":{\"id\":\"afc5bc8b-b239-4ca8-8713-7c2346cca5cc\",\"type\":\"Range1d\"},\"y_range\":{\"id\":\"6a15968f-16de-4a02-bb8d-31f3d16f5635\",\"type\":\"Range1d\"}},\"id\":\"71629946-7d4e-4d71-8ddf-a72a0f3e476b\",\"subtype\":\"Figure\",\"type\":\"Plot\"},{\"attributes\":{\"plot\":{\"id\":\"71629946-7d4e-4d71-8ddf-a72a0f3e476b\",\"subtype\":\"Figure\",\"type\":\"Plot\"}},\"id\":\"0fd10a06-6445-4bf2-a244-aa6d1c9382f4\",\"type\":\"SaveTool\"},{\"attributes\":{\"plot\":{\"id\":\"71629946-7d4e-4d71-8ddf-a72a0f3e476b\",\"subtype\":\"Figure\",\"type\":\"Plot\"}},\"id\":\"803cc7a6-046d-47ff-ad08-0c6d2dc6188a\",\"type\":\"HelpTool\"},{\"attributes\":{\"callback\":null,\"end\":3.483333},\"id\":\"6a15968f-16de-4a02-bb8d-31f3d16f5635\",\"type\":\"Range1d\"},{\"attributes\":{\"plot\":{\"id\":\"71629946-7d4e-4d71-8ddf-a72a0f3e476b\",\"subtype\":\"Figure\",\"type\":\"Plot\"}},\"id\":\"f67f993a-abc4-40a8-98b1-bd655a8ef09d\",\"type\":\"ResetTool\"},{\"attributes\":{\"plot\":null,\"text\":null},\"id\":\"cef76efa-2c68-435a-b725-66068b534d50\",\"type\":\"Title\"},{\"attributes\":{\"plot\":{\"id\":\"71629946-7d4e-4d71-8ddf-a72a0f3e476b\",\"subtype\":\"Figure\",\"type\":\"Plot\"}},\"id\":\"b226210c-f939-4404-b118-d2ab7115e1c2\",\"type\":\"WheelZoomTool\"},{\"attributes\":{},\"id\":\"2720fa4b-3316-40e4-9c17-baccea9a0ad1\",\"type\":\"BasicTicker\"},{\"attributes\":{\"callback\":null,\"column_names\":[\"top\",\"left\",\"right\",\"bottom\"],\"data\":{\"bottom\":[0.0,0.0,0.0,0.0,0.0,0.0,0.0,0.0,0.0,0.0,0.0,0.0,0.0,0.0,0.0,0.0,0.0,0.0,0.0,0.0,0.0,0.0,0.0,0.0,0.0,0.0,0.0,0.0,0.0,0.0,0.0,0.0,0.0,0.0,0.0,0.0,0.0,0.0,0.0,0.0,0.0,0.0,0.0,0.0,0.0,0.0,0.0,0.0,0.0,0.0,0.0,0.0,0.0,0.0,0.0,0.0,0.0,0.0,0.0,0.0],\"left\":[50575,50635,50695,50755,50815,50875,50935,50995,51055,51115,51175,51235,51295,51355,51416,51476,51536,51596,51656,51716,51776,51836,51896,51956,52016,52076,52136,52196,52257,52317,52377,52437,52497,52557,52617,52677,52737,52797,52857,52917,52977,53037,53098,53158,53218,53278,53338,53398,53458,53518,53578,53638,53698,53758,53818,53879,53939,53999,54059,54119],\"right\":[50635.0,50695.0,50755.0,50815.0,50875.0,50935.0,50995.0,51055.0,51115.0,51175.0,51235.0,51295.0,51355.0,51415.0,51476.0,51536.0,51596.0,51656.0,51716.0,51776.0,51836.0,51896.0,51956.0,52016.0,52076.0,52136.0,52196.0,52256.0,52317.0,52377.0,52437.0,52497.0,52557.0,52617.0,52677.0,52737.0,52797.0,52857.0,52917.0,52977.0,53037.0,53097.0,53158.0,53218.0,53278.0,53338.0,53398.0,53458.0,53518.0,53578.0,53638.0,53698.0,53758.0,53818.0,53878.0,53939.0,53999.0,54059.0,54119.0,54179.0],\"top\":[0.95,0.683333,0.3,0.35,0.35,0.166667,0.633333,0.683333,1.033333,0.483333,0.583333,0.2,0.933333,0.43333299999999997,0.766667,0.583333,0.333333,0.65,0.816667,0.333333,0.31666700000000003,1.15,1.25,0.216667,1.8666669999999999,1.033333,0.55,0.45,0.633333,3.483333,0.3,0.7,1.283333,1.15,0.35,0.533333,0.816667,1.583333,0.9,1.233333,1.183333,0.8,0.85,1.2,0.7,0.5,0.583333,0.95,0.733333,0.55,0.566667,0.416667,0.933333,0.2,0.733333,0.75,1.233333,0.733333,0.85,0.583333]}},\"id\":\"41520d82-406b-4dde-9160-00889165fc12\",\"type\":\"ColumnDataSource\"},{\"attributes\":{\"format\":\"00:00:00\"},\"id\":\"806af1bc-d9fd-49ff-91a9-8d4896d4769f\",\"type\":\"NumeralTickFormatter\"},{\"attributes\":{\"callback\":null,\"end\":86400},\"id\":\"afc5bc8b-b239-4ca8-8713-7c2346cca5cc\",\"type\":\"Range1d\"},{\"attributes\":{},\"id\":\"c349dc7c-b1cc-4d23-b454-ed9ab4eae2e1\",\"type\":\"ToolEvents\"},{\"attributes\":{\"ticks\":[0,3600,7200,10800,14400,18000,21600,25200,28800,32400,36000,39600,43200,46800,50400,54000,57600,61200,64800,68400,72000,75600,79200,82800,86400]},\"id\":\"867f9349-86bc-40ab-b0ce-a0e51b4674cd\",\"type\":\"FixedTicker\"},{\"attributes\":{},\"id\":\"e2139982-2c11-4ead-bed8-97e4277a2141\",\"type\":\"BasicTicker\"},{\"attributes\":{\"axis_label\":\"Time\",\"formatter\":{\"id\":\"806af1bc-d9fd-49ff-91a9-8d4896d4769f\",\"type\":\"NumeralTickFormatter\"},\"major_label_orientation\":0.7853981633974483,\"plot\":{\"id\":\"71629946-7d4e-4d71-8ddf-a72a0f3e476b\",\"subtype\":\"Figure\",\"type\":\"Plot\"},\"ticker\":{\"id\":\"867f9349-86bc-40ab-b0ce-a0e51b4674cd\",\"type\":\"FixedTicker\"}},\"id\":\"2f8aee23-0912-4f34-bdc2-f62dc16cfdc3\",\"type\":\"LinearAxis\"},{\"attributes\":{\"dimension\":1,\"plot\":{\"id\":\"71629946-7d4e-4d71-8ddf-a72a0f3e476b\",\"subtype\":\"Figure\",\"type\":\"Plot\"},\"ticker\":{\"id\":\"2720fa4b-3316-40e4-9c17-baccea9a0ad1\",\"type\":\"BasicTicker\"}},\"id\":\"9947421c-787d-4046-ac96-ead89e22d88a\",\"type\":\"Grid\"},{\"attributes\":{\"axis_label\":\"Pixels / s\",\"formatter\":{\"id\":\"b66e6d30-b6ab-40db-bb02-aa81fbdf9882\",\"type\":\"BasicTickFormatter\"},\"plot\":{\"id\":\"71629946-7d4e-4d71-8ddf-a72a0f3e476b\",\"subtype\":\"Figure\",\"type\":\"Plot\"},\"ticker\":{\"id\":\"2720fa4b-3316-40e4-9c17-baccea9a0ad1\",\"type\":\"BasicTicker\"}},\"id\":\"9ba701ac-883e-41f3-a20a-5c4db2968847\",\"type\":\"LinearAxis\"},{\"attributes\":{\"plot\":{\"id\":\"71629946-7d4e-4d71-8ddf-a72a0f3e476b\",\"subtype\":\"Figure\",\"type\":\"Plot\"}},\"id\":\"1bbce54c-7f9a-478e-a93c-f16be002d7ab\",\"type\":\"PanTool\"},{\"attributes\":{\"bottom_units\":\"screen\",\"fill_alpha\":{\"value\":0.5},\"fill_color\":{\"value\":\"lightgrey\"},\"left_units\":\"screen\",\"level\":\"overlay\",\"line_alpha\":{\"value\":1.0},\"line_color\":{\"value\":\"black\"},\"line_dash\":[4,4],\"line_width\":{\"value\":2},\"plot\":null,\"render_mode\":\"css\",\"right_units\":\"screen\",\"top_units\":\"screen\"},\"id\":\"ff232dcf-96b8-4960-8ee4-21d58552d3f4\",\"type\":\"BoxAnnotation\"},{\"attributes\":{\"grid_line_color\":{\"value\":null},\"plot\":{\"id\":\"71629946-7d4e-4d71-8ddf-a72a0f3e476b\",\"subtype\":\"Figure\",\"type\":\"Plot\"},\"ticker\":{\"id\":\"e2139982-2c11-4ead-bed8-97e4277a2141\",\"type\":\"BasicTicker\"}},\"id\":\"f8cc29bf-1d79-4853-9cbf-7e20e71eae5a\",\"type\":\"Grid\"},{\"attributes\":{\"data_source\":{\"id\":\"41520d82-406b-4dde-9160-00889165fc12\",\"type\":\"ColumnDataSource\"},\"glyph\":{\"id\":\"b42860a6-9cb1-4bd5-be4a-0dc346837e46\",\"type\":\"Quad\"},\"hover_glyph\":null,\"nonselection_glyph\":{\"id\":\"b4395f54-eac6-4806-8ec0-67a4377c7920\",\"type\":\"Quad\"},\"selection_glyph\":null},\"id\":\"ef6af6cb-21c3-40b7-8449-744bd1828ccb\",\"type\":\"GlyphRenderer\"},{\"attributes\":{\"bottom\":{\"field\":\"bottom\"},\"fill_color\":{\"value\":\"#B3DE69\"},\"left\":{\"field\":\"left\"},\"line_color\":{\"value\":\"#B3DE69\"},\"right\":{\"field\":\"right\"},\"top\":{\"field\":\"top\"}},\"id\":\"b42860a6-9cb1-4bd5-be4a-0dc346837e46\",\"type\":\"Quad\"},{\"attributes\":{},\"id\":\"b66e6d30-b6ab-40db-bb02-aa81fbdf9882\",\"type\":\"BasicTickFormatter\"}],\"root_ids\":[\"71629946-7d4e-4d71-8ddf-a72a0f3e476b\"]},\"title\":\"Bokeh Application\",\"version\":\"0.12.0\"}};\n",
       "            var render_items = [{\"docid\":\"e35bbfaf-aef5-4961-8bd6-31999e30698a\",\"elementid\":\"9ee146f6-150d-433c-a0c3-d5c03e28d201\",\"modelid\":\"71629946-7d4e-4d71-8ddf-a72a0f3e476b\",\"notebook_comms_target\":\"55e26bbc-2f4c-4a76-bb52-ec2a2c76ffc0\"}];\n",
       "            \n",
       "            Bokeh.embed.embed_items(docs_json, render_items);\n",
       "        });\n",
       "      },\n",
       "      function(Bokeh) {\n",
       "      }\n",
       "    ];\n",
       "  \n",
       "    function run_inline_js() {\n",
       "      for (var i = 0; i < inline_js.length; i++) {\n",
       "        inline_js[i](window.Bokeh);\n",
       "      }\n",
       "    }\n",
       "  \n",
       "    if (window._bokeh_is_loading === 0) {\n",
       "      console.log(\"Bokeh: BokehJS loaded, going straight to plotting\");\n",
       "      run_inline_js();\n",
       "    } else {\n",
       "      load_libs(js_urls, function() {\n",
       "        console.log(\"Bokeh: BokehJS plotting callback run at\", now());\n",
       "        run_inline_js();\n",
       "      });\n",
       "    }\n",
       "  }(this));\n",
       "</script>"
      ]
     },
     "metadata": {},
     "output_type": "display_data"
    },
    {
     "data": {
      "text/html": [
       "<p><code>&lt;Bokeh Notebook handle for <strong>In[18]</strong>&gt;</code></p>"
      ],
      "text/plain": [
       "<bokeh.io._CommsHandle at 0x7efc4de6ac10>"
      ]
     },
     "execution_count": 18,
     "metadata": {},
     "output_type": "execute_result"
    }
   ],
   "source": [
    "from plottools import get_day_plot_figure\n",
    "\n",
    "## The plot representing the whole day (24 hours).\n",
    "p = get_day_plot_figure(max(t_values))\n",
    "\n",
    "# Plot the \n",
    "p.quad(top=t_values, bottom=b_values, left=l_values, right=r_values, color=\"#B3DE69\")\n",
    "\n",
    "show(p)"
   ]
  },
  {
   "cell_type": "markdown",
   "metadata": {},
   "source": [
    "As you can see, the plot covers the whole day - but the detector was only taking data for an hour from about 2pm. What's nice about Bokeh is that you can use the zoom (both **Box** and **Wheel**) and **Pan** tools in the toolbar on the right to inspect the details of the plot more closely. However, it's the potential for interacting with the plot that makes this approach particularly exciting. Watch this space!"
   ]
  }
 ],
 "metadata": {
  "kernelspec": {
   "display_name": "Python 2",
   "language": "python",
   "name": "python2"
  },
  "language_info": {
   "codemirror_mode": {
    "name": "ipython",
    "version": 2
   },
   "file_extension": ".py",
   "mimetype": "text/x-python",
   "name": "python",
   "nbconvert_exporter": "python",
   "pygments_lexer": "ipython2",
   "version": "2.7.11"
  }
 },
 "nbformat": 4,
 "nbformat_minor": 0
}
