{
 "cells": [
  {
   "cell_type": "markdown",
   "metadata": {},
   "source": [
    "# Plotting a time series using Bokeh\n",
    "Let's say we want to plot the number of hit during our data taking with the Timepix detector. This isn't quite as trivial as it sounds, unfortunately. For example, while each frame of data records a discrete number of pixels, this is only for the duration of the **acquisition time** of the frame. There are slight gaps between the frames due to the readout time. It is therefore more appropriate to plot the **pixels per second** associated with each frame as a rectangle on a graph of _time_ versus _pixels per second_; the area of each rectangle then gives you the number of pixels hit in that frame.\n",
    "\n",
    "This makes the high-level Bokeh `Bar` chart a bit useless for what we want. We therefore will need to play with our data a bit before using the `quad` plotting functionality of Bokeh to get the plot that we want."
   ]
  },
  {
   "cell_type": "markdown",
   "metadata": {},
   "source": [
    "## Getting the data\n",
    "For convenience, we've converted the [background radiation measurement data](https://dx.doi.org/10.6084/m9.figshare.1618851.v2) featured in [this paper](http://dx.doi.org/10.1080/00107514.2015.1045193) into a CSV file that can be read straight in as a **pandas** `DataFrame` like so:"
   ]
  },
  {
   "cell_type": "code",
   "execution_count": 1,
   "metadata": {
    "collapsed": false,
    "scrolled": true
   },
   "outputs": [
    {
     "data": {
      "text/html": [
       "<div>\n",
       "<table border=\"1\" class=\"dataframe\">\n",
       "  <thead>\n",
       "    <tr style=\"text-align: right;\">\n",
       "      <th></th>\n",
       "      <th>start_time_s</th>\n",
       "      <th>acq_time_s</th>\n",
       "      <th>n_pixels</th>\n",
       "      <th>pixels_per_second</th>\n",
       "    </tr>\n",
       "  </thead>\n",
       "  <tbody>\n",
       "    <tr>\n",
       "      <th>0</th>\n",
       "      <td>1396447375</td>\n",
       "      <td>60.0</td>\n",
       "      <td>57</td>\n",
       "      <td>0.950000</td>\n",
       "    </tr>\n",
       "    <tr>\n",
       "      <th>1</th>\n",
       "      <td>1396447435</td>\n",
       "      <td>60.0</td>\n",
       "      <td>41</td>\n",
       "      <td>0.683333</td>\n",
       "    </tr>\n",
       "    <tr>\n",
       "      <th>2</th>\n",
       "      <td>1396447495</td>\n",
       "      <td>60.0</td>\n",
       "      <td>18</td>\n",
       "      <td>0.300000</td>\n",
       "    </tr>\n",
       "    <tr>\n",
       "      <th>3</th>\n",
       "      <td>1396447555</td>\n",
       "      <td>60.0</td>\n",
       "      <td>21</td>\n",
       "      <td>0.350000</td>\n",
       "    </tr>\n",
       "    <tr>\n",
       "      <th>4</th>\n",
       "      <td>1396447615</td>\n",
       "      <td>60.0</td>\n",
       "      <td>21</td>\n",
       "      <td>0.350000</td>\n",
       "    </tr>\n",
       "  </tbody>\n",
       "</table>\n",
       "</div>"
      ],
      "text/plain": [
       "   start_time_s  acq_time_s  n_pixels  pixels_per_second\n",
       "0    1396447375        60.0        57           0.950000\n",
       "1    1396447435        60.0        41           0.683333\n",
       "2    1396447495        60.0        18           0.300000\n",
       "3    1396447555        60.0        21           0.350000\n",
       "4    1396447615        60.0        21           0.350000"
      ]
     },
     "execution_count": 1,
     "metadata": {},
     "output_type": "execute_result"
    }
   ],
   "source": [
    "import pandas as pd\n",
    "\n",
    "df = pd.read_csv('data/bkgradiation/B06-W0212_2014-04-02-140255.csv')\n",
    "\n",
    "df.head()"
   ]
  },
  {
   "cell_type": "markdown",
   "metadata": {},
   "source": [
    "## Preparing the data\n",
    "The **Bokeh** `quad` functionality allows us to plot rectangles on our axes using four lists representing the top, bottom, left and right corners of each rectangle. Using some _list comprehension_ on the columns extracted from our `DataFrame`, we can get these values as follows:\n",
    "\n",
    "* Left values: these are the start times of each frame. However, we only have the UNIX timestamp for each frame, i.e. the number of seconds since 1st January 1970. We can retrieve the number of seconds since the start of the day using the modulus operator on the extracted `start_time_s` column values;\n",
    "* Right values: we can then add the **acquisition time** to each start time using list comprehension and the `zip` function;\n",
    "* Top values: these are simply the _pixels per second_ as extracted from the data;\n",
    "* Bottom values: always 0 - we want the rectangle to touch the x axis, so we create a list of zeroes (one zero for every frame)."
   ]
  },
  {
   "cell_type": "code",
   "execution_count": 2,
   "metadata": {
    "collapsed": false
   },
   "outputs": [],
   "source": [
    "# Get some constant values for convenience - see timevals.py.\n",
    "from timevals import *\n",
    "\n",
    "## The left-hand values for each frame.\n",
    "l_values = [(s % SECONDS_IN_A_DAY) for s in df['start_time_s'].tolist()]\n",
    "\n",
    "## The right-hand values for each frame.\n",
    "r_values = [s + a for s, a in zip(l_values, df['acq_time_s'].tolist())]\n",
    "\n",
    "## The top values for each frame - pixels per second (from the data).\n",
    "t_values = df['pixels_per_second'].tolist()\n",
    "\n",
    "## The bottom values for each frame - a list of zeroes.\n",
    "b_values = [0.0] * len(l_values)"
   ]
  },
  {
   "cell_type": "markdown",
   "metadata": {},
   "source": [
    "## Plotting the data\n",
    "Now let's use Bokeh to plot the data. First, let's ask Bokeh to output to the notebook:"
   ]
  },
  {
   "cell_type": "code",
   "execution_count": 5,
   "metadata": {
    "collapsed": false
   },
   "outputs": [],
   "source": [
    "# Standard imports - needed when running locally.\n",
    "\n",
    "#from bokeh.io import output_notebook, show\n",
    "#output_notebook()"
   ]
  },
  {
   "cell_type": "markdown",
   "metadata": {},
   "source": [
    "Bokeh's `datetime` axis functionality can't quite do what we want, so the `get_day_plot_figure` function uses a few tricks to format the _x_ axis tick labels to show the time. Look at `plottools.py` to see how it's done - all we need to supply is the upper _y_ axis limit (extracted from the maximum pixels per second value). We can then make the plot using the `quad` function:"
   ]
  },
  {
   "cell_type": "code",
   "execution_count": 4,
   "metadata": {
    "collapsed": false
   },
   "outputs": [
    {
     "data": {
      "text/plain": [
       "<bokeh.models.renderers.GlyphRenderer at 0x7fc674c41950>"
      ]
     },
     "execution_count": 4,
     "metadata": {},
     "output_type": "execute_result"
    }
   ],
   "source": [
    "from plottools import get_day_plot_figure\n",
    "\n",
    "## The plot representing the whole day (24 hours).\n",
    "p = get_day_plot_figure(max(t_values))\n",
    "\n",
    "# Plot the \n",
    "p.quad(top=t_values, bottom=b_values, left=l_values, right=r_values, color=\"#B3DE69\")\n",
    "\n",
    "# Note - this is the web/GitHub repo version of the notebook, so we've\n",
    "# used an image of the interactive plot below so you can see what it\n",
    "# should look like when you run pixel_rate_time_series.ipynb yourself.\n",
    "#\n",
    "#show(p)"
   ]
  },
  {
   "cell_type": "markdown",
   "metadata": {},
   "source": [
    "![The time series plot](data/bkgradiation/B06-W0212_2014-04-02-140255_time_series.png)"
   ]
  },
  {
   "cell_type": "markdown",
   "metadata": {},
   "source": [
    "As you can see, the plot covers the whole day - but the detector was only taking data for an hour from about 2pm. What's nice about Bokeh is that you can use the zoom (both **Box** and **Wheel**) and **Pan** tools in the toolbar on the right (when running the notebook yourself) to inspect the details of the plot more closely. However, it's the potential for interacting with the plot that makes this approach particularly exciting. Watch this space!"
   ]
  }
 ],
 "metadata": {
  "kernelspec": {
   "display_name": "Python 2",
   "language": "python",
   "name": "python2"
  },
  "language_info": {
   "codemirror_mode": {
    "name": "ipython",
    "version": 2
   },
   "file_extension": ".py",
   "mimetype": "text/x-python",
   "name": "python",
   "nbconvert_exporter": "python",
   "pygments_lexer": "ipython2",
   "version": "2.7.11"
  }
 },
 "nbformat": 4,
 "nbformat_minor": 0
}
